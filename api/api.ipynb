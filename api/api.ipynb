{
 "cells": [
  {
   "cell_type": "code",
   "execution_count": 18,
   "metadata": {},
   "outputs": [],
   "source": [
    "# This is a simple/manual example of how to connect to Indeeds API:\n",
    "# 1. Have a user authenticate on Indeed's identity servers.\n",
    "# 2. Copy authorization code from redirect url.\n",
    "# 3. Exchange the authorization code for Indeed API OAuth token.\n",
    "# 4. Make a simple API call and print the response to the console.\n",
    "\n",
    "from requests_oauthlib import OAuth2Session\n",
    "\n",
    "# Our application's credentials. Indeed provides these after app is registered\n",
    "client_id = \"bd48c9836c6fb4a9df170981f6ffbd0306bafd3823a8feb14e08542f1628729a\"\n",
    "client_secret = \"TgRqs3gMgPhegRf0lxUZxUNxqemFbHozryx8nujRNfT9gN8q8vbBMi4FldULk6HW\""
   ]
  },
  {
   "cell_type": "code",
   "execution_count": 19,
   "metadata": {},
   "outputs": [],
   "source": [
    "# Our application's redirect url\n",
    "redirect_url = \"https://arthurfh.github.io/\"\n",
    "\n",
    "# Indeed identity verification\n",
    "authorization_base_url = \"https://secure.indeed.com/oauth/v2/authorize\"\n",
    "\n",
    "# Exchange authorization code for token Indeed API endpoint\n",
    "token_request_url = \"https://apis.indeed.com/oauth/v2/tokens\"\n",
    "\n",
    "# Protected Indeed API endpoint\n",
    "user_info_endpoint = \"https://secure.indeed.com/v2/api/userinfo\""
   ]
  },
  {
   "cell_type": "code",
   "execution_count": 20,
   "metadata": {},
   "outputs": [
    {
     "name": "stdout",
     "output_type": "stream",
     "text": [
      "Send the user to Indeed by clicking this link: ('https://secure.indeed.com/oauth/v2/authorize?response_type=code&client_id=bd48c9836c6fb4a9df170981f6ffbd0306bafd3823a8feb14e08542f1628729a&redirect_uri=https%3A%2F%2Farthurfh.github.io%2F&state=4Lq1UEMllPK1OPXdKIITvmHfraDhLG', '4Lq1UEMllPK1OPXdKIITvmHfraDhLG')\n"
     ]
    }
   ],
   "source": [
    "# Use requests-oauthlib to create an OAuth2Session object\n",
    "session = OAuth2Session(client_id, redirect_uri=redirect_url)\n",
    "\n",
    "# Use requests-oauthlib to create the authorization link\n",
    "authorization_url = session.authorization_url(authorization_base_url)\n",
    "\n",
    "# Follow link to verify identity with Indeed\n",
    "print(f\"Send the user to Indeed by clicking this link: {authorization_url}\")"
   ]
  },
  {
   "cell_type": "code",
   "execution_count": 24,
   "metadata": {},
   "outputs": [],
   "source": [
    "# Parse redirect url\n",
    "redirect_response = \"https://secure.indeed.com/oauth/v2/authorize?response_type=code&client_id=bd48c9836c6fb4a9df170981f6ffbd0306bafd3823a8feb14e08542f1628729a&redirect_uri=https%3A%2F%2Farthurfh.github.io%2F&state=lpreslZnjqo2MEFbI18f9QKpYrsYT3\""
   ]
  },
  {
   "cell_type": "code",
   "execution_count": 25,
   "metadata": {},
   "outputs": [
    {
     "ename": "MismatchingStateError",
     "evalue": "(mismatching_state) CSRF Warning! State not equal in request and response.",
     "output_type": "error",
     "traceback": [
      "\u001b[1;31m---------------------------------------------------------------------------\u001b[0m",
      "\u001b[1;31mMismatchingStateError\u001b[0m                     Traceback (most recent call last)",
      "Cell \u001b[1;32mIn[25], line 2\u001b[0m\n\u001b[0;32m      1\u001b[0m \u001b[38;5;66;03m# Create OAuth2 token via fetch_token method, see requests-oauthlib docs for more info\u001b[39;00m\n\u001b[1;32m----> 2\u001b[0m token \u001b[38;5;241m=\u001b[39m \u001b[43msession\u001b[49m\u001b[38;5;241;43m.\u001b[39;49m\u001b[43mfetch_token\u001b[49m\u001b[43m(\u001b[49m\n\u001b[0;32m      3\u001b[0m \u001b[43m    \u001b[49m\u001b[43mtoken_url\u001b[49m\u001b[38;5;241;43m=\u001b[39;49m\u001b[43mtoken_request_url\u001b[49m\u001b[43m,\u001b[49m\n\u001b[0;32m      4\u001b[0m \u001b[43m    \u001b[49m\u001b[43mclient_id\u001b[49m\u001b[38;5;241;43m=\u001b[39;49m\u001b[43mclient_id\u001b[49m\u001b[43m,\u001b[49m\n\u001b[0;32m      5\u001b[0m \u001b[43m    \u001b[49m\u001b[43mclient_secret\u001b[49m\u001b[38;5;241;43m=\u001b[39;49m\u001b[43mclient_secret\u001b[49m\u001b[43m,\u001b[49m\n\u001b[0;32m      6\u001b[0m \u001b[43m    \u001b[49m\u001b[43mauthorization_response\u001b[49m\u001b[38;5;241;43m=\u001b[39;49m\u001b[43mredirect_response\u001b[49m\n\u001b[0;32m      7\u001b[0m \u001b[43m    \u001b[49m\u001b[43m)\u001b[49m\n\u001b[0;32m      9\u001b[0m \u001b[38;5;66;03m# Make an HTTP request to a protected resource\u001b[39;00m\n\u001b[0;32m     10\u001b[0m response \u001b[38;5;241m=\u001b[39m session\u001b[38;5;241m.\u001b[39mget(user_info_endpoint)\n",
      "File \u001b[1;32m~\\AppData\\Local\\Packages\\PythonSoftwareFoundation.Python.3.11_qbz5n2kfra8p0\\LocalCache\\local-packages\\Python311\\site-packages\\requests_oauthlib\\oauth2_session.py:271\u001b[0m, in \u001b[0;36mOAuth2Session.fetch_token\u001b[1;34m(self, token_url, code, authorization_response, body, auth, username, password, method, force_querystring, timeout, headers, verify, proxies, include_client_id, client_secret, cert, **kwargs)\u001b[0m\n\u001b[0;32m    268\u001b[0m     \u001b[38;5;28;01mraise\u001b[39;00m InsecureTransportError()\n\u001b[0;32m    270\u001b[0m \u001b[38;5;28;01mif\u001b[39;00m \u001b[38;5;129;01mnot\u001b[39;00m code \u001b[38;5;129;01mand\u001b[39;00m authorization_response:\n\u001b[1;32m--> 271\u001b[0m     \u001b[38;5;28;43mself\u001b[39;49m\u001b[38;5;241;43m.\u001b[39;49m\u001b[43m_client\u001b[49m\u001b[38;5;241;43m.\u001b[39;49m\u001b[43mparse_request_uri_response\u001b[49m\u001b[43m(\u001b[49m\n\u001b[0;32m    272\u001b[0m \u001b[43m        \u001b[49m\u001b[43mauthorization_response\u001b[49m\u001b[43m,\u001b[49m\u001b[43m \u001b[49m\u001b[43mstate\u001b[49m\u001b[38;5;241;43m=\u001b[39;49m\u001b[38;5;28;43mself\u001b[39;49m\u001b[38;5;241;43m.\u001b[39;49m\u001b[43m_state\u001b[49m\n\u001b[0;32m    273\u001b[0m \u001b[43m    \u001b[49m\u001b[43m)\u001b[49m\n\u001b[0;32m    274\u001b[0m     code \u001b[38;5;241m=\u001b[39m \u001b[38;5;28mself\u001b[39m\u001b[38;5;241m.\u001b[39m_client\u001b[38;5;241m.\u001b[39mcode\n\u001b[0;32m    275\u001b[0m \u001b[38;5;28;01melif\u001b[39;00m \u001b[38;5;129;01mnot\u001b[39;00m code \u001b[38;5;129;01mand\u001b[39;00m \u001b[38;5;28misinstance\u001b[39m(\u001b[38;5;28mself\u001b[39m\u001b[38;5;241m.\u001b[39m_client, WebApplicationClient):\n",
      "File \u001b[1;32m~\\AppData\\Local\\Packages\\PythonSoftwareFoundation.Python.3.11_qbz5n2kfra8p0\\LocalCache\\local-packages\\Python311\\site-packages\\oauthlib\\oauth2\\rfc6749\\clients\\web_application.py:220\u001b[0m, in \u001b[0;36mWebApplicationClient.parse_request_uri_response\u001b[1;34m(self, uri, state)\u001b[0m\n\u001b[0;32m    176\u001b[0m \u001b[38;5;28;01mdef\u001b[39;00m \u001b[38;5;21mparse_request_uri_response\u001b[39m(\u001b[38;5;28mself\u001b[39m, uri, state\u001b[38;5;241m=\u001b[39m\u001b[38;5;28;01mNone\u001b[39;00m):\n\u001b[0;32m    177\u001b[0m \u001b[38;5;250m    \u001b[39m\u001b[38;5;124;03m\"\"\"Parse the URI query for code and state.\u001b[39;00m\n\u001b[0;32m    178\u001b[0m \n\u001b[0;32m    179\u001b[0m \u001b[38;5;124;03m    If the resource owner grants the access request, the authorization\u001b[39;00m\n\u001b[1;32m   (...)\u001b[0m\n\u001b[0;32m    218\u001b[0m \u001b[38;5;124;03m        oauthlib.oauth2.rfc6749.errors.MismatchingStateError\u001b[39;00m\n\u001b[0;32m    219\u001b[0m \u001b[38;5;124;03m    \"\"\"\u001b[39;00m\n\u001b[1;32m--> 220\u001b[0m     response \u001b[38;5;241m=\u001b[39m \u001b[43mparse_authorization_code_response\u001b[49m\u001b[43m(\u001b[49m\u001b[43muri\u001b[49m\u001b[43m,\u001b[49m\u001b[43m \u001b[49m\u001b[43mstate\u001b[49m\u001b[38;5;241;43m=\u001b[39;49m\u001b[43mstate\u001b[49m\u001b[43m)\u001b[49m\n\u001b[0;32m    221\u001b[0m     \u001b[38;5;28mself\u001b[39m\u001b[38;5;241m.\u001b[39mpopulate_code_attributes(response)\n\u001b[0;32m    222\u001b[0m     \u001b[38;5;28;01mreturn\u001b[39;00m response\n",
      "File \u001b[1;32m~\\AppData\\Local\\Packages\\PythonSoftwareFoundation.Python.3.11_qbz5n2kfra8p0\\LocalCache\\local-packages\\Python311\\site-packages\\oauthlib\\oauth2\\rfc6749\\parameters.py:278\u001b[0m, in \u001b[0;36mparse_authorization_code_response\u001b[1;34m(uri, state)\u001b[0m\n\u001b[0;32m    275\u001b[0m params \u001b[38;5;241m=\u001b[39m \u001b[38;5;28mdict\u001b[39m(urlparse\u001b[38;5;241m.\u001b[39mparse_qsl(query))\n\u001b[0;32m    277\u001b[0m \u001b[38;5;28;01mif\u001b[39;00m state \u001b[38;5;129;01mand\u001b[39;00m params\u001b[38;5;241m.\u001b[39mget(\u001b[38;5;124m'\u001b[39m\u001b[38;5;124mstate\u001b[39m\u001b[38;5;124m'\u001b[39m, \u001b[38;5;28;01mNone\u001b[39;00m) \u001b[38;5;241m!=\u001b[39m state:\n\u001b[1;32m--> 278\u001b[0m     \u001b[38;5;28;01mraise\u001b[39;00m MismatchingStateError()\n\u001b[0;32m    280\u001b[0m \u001b[38;5;28;01mif\u001b[39;00m \u001b[38;5;124m'\u001b[39m\u001b[38;5;124merror\u001b[39m\u001b[38;5;124m'\u001b[39m \u001b[38;5;129;01min\u001b[39;00m params:\n\u001b[0;32m    281\u001b[0m     raise_from_error(params\u001b[38;5;241m.\u001b[39mget(\u001b[38;5;124m'\u001b[39m\u001b[38;5;124merror\u001b[39m\u001b[38;5;124m'\u001b[39m), params)\n",
      "\u001b[1;31mMismatchingStateError\u001b[0m: (mismatching_state) CSRF Warning! State not equal in request and response."
     ]
    }
   ],
   "source": [
    "# Create OAuth2 token via fetch_token method, see requests-oauthlib docs for more info\n",
    "token = session.fetch_token(\n",
    "    token_url=token_request_url,\n",
    "    client_id=client_id,\n",
    "    client_secret=client_secret,\n",
    "    authorization_response=redirect_response\n",
    "    )\n",
    "\n",
    "# Make an HTTP request to a protected resource\n",
    "response = session.get(user_info_endpoint)\n",
    "\n",
    "# Use conditional to print response or error message\n",
    "if response.ok:\n",
    "    import pprint\n",
    "    pp = pprint.PrettyPrinter(indent=2)\n",
    "    print(\"\\nResponse from Indeed Request:\\n{}\".format(\"-\"*30,))\n",
    "    pp.pprint(response.json())\n",
    "else:\n",
    "    print(f\"response returned error {response.status_code}: {response.reason}\")"
   ]
  }
 ],
 "metadata": {
  "kernelspec": {
   "display_name": "Python 3",
   "language": "python",
   "name": "python3"
  },
  "language_info": {
   "codemirror_mode": {
    "name": "ipython",
    "version": 3
   },
   "file_extension": ".py",
   "mimetype": "text/x-python",
   "name": "python",
   "nbconvert_exporter": "python",
   "pygments_lexer": "ipython3",
   "version": "3.11.9"
  }
 },
 "nbformat": 4,
 "nbformat_minor": 2
}
